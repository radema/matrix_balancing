{
 "cells": [
  {
   "cell_type": "code",
   "execution_count": null,
   "metadata": {},
   "outputs": [],
   "source": [
    "'''\n",
    "\n",
    "Step 0\n",
    "* X_o initial IOT\n",
    "* X TARGET IOT\n",
    "* u = X's row sums (KNOWN)\n",
    "* v = X's column sums (KNOWN)\n",
    "* additional non overlapping aggregation constraints w_{IJ}\n",
    "\n",
    "Step 1\n",
    "Define Z as X/X_o (elementwise)\n",
    "* z = x/x_o where x_o <> 0\n",
    "* z = 1 if x_o = 0\n",
    "\n",
    "\n",
    "'''"
   ]
  },
  {
   "cell_type": "code",
   "execution_count": 5,
   "metadata": {},
   "outputs": [],
   "source": [
    "import scipy as sp\n",
    "import numpy as np"
   ]
  },
  {
   "cell_type": "code",
   "execution_count": 15,
   "metadata": {},
   "outputs": [],
   "source": [
    "X = np.random.rand(10,10)-0.5\n",
    "P = np.maximum(X,0)\n",
    "N = np.maximum(-X,0)\n",
    "\n",
    "assert np.all(X == P - N)"
   ]
  },
  {
   "cell_type": "code",
   "execution_count": 1,
   "metadata": {},
   "outputs": [],
   "source": [
    "# given a matrix X, extract the positive part and the negative part such that X = P - N"
   ]
  },
  {
   "cell_type": "code",
   "execution_count": null,
   "metadata": {},
   "outputs": [],
   "source": [
    "# define function p_i e p_j\n",
    "\n",
    "# define function n_i e n_j\n",
    "\n",
    "# define function p_IJ e n_IJ\n",
    "\n",
    "# define s_j\n",
    "\n",
    "# define r_j\n",
    "\n",
    "# define t_IJ"
   ]
  },
  {
   "cell_type": "code",
   "execution_count": null,
   "metadata": {},
   "outputs": [],
   "source": [
    "# step 0: define r_i and t_{IJ} = 1 for all IJ"
   ]
  },
  {
   "cell_type": "code",
   "execution_count": 2,
   "metadata": {},
   "outputs": [],
   "source": [
    "# define tolerance \n",
    "\n",
    "# apply iteration procedure"
   ]
  },
  {
   "cell_type": "markdown",
   "metadata": {},
   "source": [
    "```matlab\n",
    "[m,n] = size(X0);\n",
    "N = zeros(m,n);\n",
    "N(X0<0) = -X0(X0<0); \n",
    "N = sparse(N);      %could save memory with large-scale matrices\n",
    "P = X0+N;\n",
    "P = sparse(P);\n",
    " \n",
    "r = ones(m,1);      %initial guess for r (suggested by J&O, 2003)\n",
    "pr = P'*r;\n",
    "nr = N'*invd(r)*ones(m,1);\n",
    "s1 = invd(2*pr)*(v+sqrt(v.^2+4*pr.*nr));    %first step s\n",
    "ss = -invd(v)*nr;\n",
    "s1(pr==0) = ss(pr==0);      \n",
    "ps = P*s1;\n",
    "ns = N*invd(s1)*ones(n,1);\n",
    "r = invd(2*ps)*(u+sqrt(u.^2+4*ps.*ns));     %first step r\n",
    "rr = - invd(u)*ns;\n",
    "r(ps==0) = rr(ps==0);\n",
    " \n",
    "pr = P'*r;\n",
    "nr = N'*invd(r)*ones(m,1);\n",
    "s2 = invd(2*pr)*(v+sqrt(v.^2+4*pr.*nr));    %second step s  \n",
    "ss = -invd(v)*nr;\n",
    "s2(pr==0) = ss(pr==0);  \n",
    "dif = s2-s1;\n",
    "iter = 1                %first iteration\n",
    "if  nargin < 4 || isempty(eps)\n",
    "    eps = 0.1e-5;       %default tolerance level\n",
    "end        \n",
    "M = max(abs(dif));\n",
    "while (M > eps)\n",
    "    s1 = s2;\n",
    "    ps = P*s1;\n",
    "    ns = N*invd(s1)*ones(n,1);\n",
    "    r = invd(2*ps)*(u+sqrt(u.^2+4*ps.*ns));   %previous step r\n",
    "    rr = -invd(u)*ns;\n",
    "    r(ps==0) = rr(ps==0);\n",
    "    pr = P'*r;\n",
    "    nr = N'*invd(r)*ones(m,1);\n",
    "    s2 = invd(2*pr)*(v+sqrt(v.^2+4*pr.*nr));  %current step s\n",
    "    ss = -invd(v)*nr;\n",
    "    s2(pr==0) = ss(pr==0);\n",
    "    dif = s2-s1;\n",
    "    iter = iter+1\n",
    "    M = max(abs(dif));\n",
    "end\n",
    "s = s2;                                        %final step s\n",
    "ps = P*s;\n",
    "ns = N*invd(s)*ones(n,1);\n",
    "r = invd(2*ps)*(u+sqrt(u.^2+4*ps.*ns));        %final step r\n",
    "rr = -invd(u)*ns;\n",
    "r(ps==0) = rr(ps==0);\n",
    "X = diag(r)*P*diag(s)-invd(r)*N*invd(s);       %updated matrix\n",
    " \n",
    "function invd = invd(x)         %auxiliary function used above\n",
    "invd = 1./x;\n",
    "invd(x==0) = 1;\n",
    "invd = diag(invd);\n",
    "```"
   ]
  },
  {
   "cell_type": "markdown",
   "metadata": {},
   "source": []
  }
 ],
 "metadata": {
  "kernelspec": {
   "display_name": "base",
   "language": "python",
   "name": "python3"
  },
  "language_info": {
   "codemirror_mode": {
    "name": "ipython",
    "version": 3
   },
   "file_extension": ".py",
   "mimetype": "text/x-python",
   "name": "python",
   "nbconvert_exporter": "python",
   "pygments_lexer": "ipython3",
   "version": "3.12.3"
  }
 },
 "nbformat": 4,
 "nbformat_minor": 2
}
