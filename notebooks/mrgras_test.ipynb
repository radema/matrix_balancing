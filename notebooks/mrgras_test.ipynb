{
 "cells": [
  {
   "cell_type": "code",
   "execution_count": 1,
   "metadata": {},
   "outputs": [],
   "source": [
    "import scipy as sp\n",
    "import numpy as np"
   ]
  },
  {
   "cell_type": "markdown",
   "metadata": {},
   "source": [
    "---"
   ]
  },
  {
   "cell_type": "code",
   "execution_count": 244,
   "metadata": {},
   "outputs": [],
   "source": [
    "import numpy as np\n",
    "from typing import List, Set, Tuple\n",
    "\n",
    "def construct_constraint_matrices(\n",
    "    constraints: List[Set[Tuple[int, int]]],\n",
    "    values: List[float],\n",
    "    m: int,  # Number of input rows\n",
    "    n: int   # Number of input columns\n",
    ") -> Tuple[np.ndarray, np.ndarray, np.ndarray]:\n",
    "    \"\"\"\n",
    "    Construct Q, G, and W matrices for multiregion constraints\n",
    "    \n",
    "    Parameters:\n",
    "    -----------\n",
    "    constraints : List[Set[Tuple[int, int]]]\n",
    "        List of index pair sets for each constraint\n",
    "    values : List[float]\n",
    "        Corresponding values for each constraint set\n",
    "    m : int\n",
    "        Number of rows in the input matrix X\n",
    "    n : int\n",
    "        Number of columns in the input matrix X\n",
    "    \n",
    "    Returns:\n",
    "    --------\n",
    "    Tuple[np.ndarray, np.ndarray, np.ndarray]\n",
    "        Q (rows aggregation matrix, M x m), \n",
    "        G (columns aggregation matrix, n x N), \n",
    "        W (constraint values matrix, M x N)\n",
    "    \"\"\"\n",
    "    # Find unique constraint indices\n",
    "    first_components = [(set(idx[0] for idx in constraint_set)) for constraint_set in constraints]\n",
    "    second_components = [(set(idx[1]  for idx in constraint_set)) for constraint_set in constraints]\n",
    "    \n",
    "    # Determine M and N by finding groups of first and second components\n",
    "    def find_groups(components):\n",
    "        groups = []\n",
    "        used = set()\n",
    "        for comp_set in components:\n",
    "            # Check if this set overlaps with existing groups\n",
    "            matching_group = None\n",
    "            for group_idx, group in enumerate(groups):\n",
    "                if not group.isdisjoint(comp_set):\n",
    "                    matching_group = group_idx\n",
    "                    break\n",
    "            \n",
    "            # If no matching group, create a new one\n",
    "            if matching_group is None:\n",
    "                groups.append(comp_set)\n",
    "            else:\n",
    "                # Merge with existing group\n",
    "                groups[matching_group].update(comp_set)\n",
    "        \n",
    "        return groups\n",
    "    \n",
    "    row_groups = find_groups(first_components)\n",
    "    col_groups = find_groups(second_components)\n",
    "\n",
    "    # Dimensions\n",
    "    M = len(row_groups)\n",
    "    N = len(col_groups)\n",
    "    # print(M, N)\n",
    "\n",
    "    # Initialize Q, G, and W matrices\n",
    "    G = np.zeros((M, m), dtype=float)\n",
    "    Q = np.zeros((n, N), dtype=float)\n",
    "    #W = np.full((M,N), dtype = float, fill_value=np.nan)#\n",
    "    W = np.zeros((M, N), dtype=float)\n",
    "    \n",
    "    # Create mapping for row and column groups\n",
    "    row_group_map = {}\n",
    "    for group_idx, group in enumerate(row_groups):\n",
    "        for row in group:\n",
    "            row_group_map[row] = group_idx\n",
    "    \n",
    "    col_group_map = {}\n",
    "    for group_idx, group in enumerate(col_groups):\n",
    "        for col in group:\n",
    "            col_group_map[col] = group_idx\n",
    "    \n",
    "    # Fill Q matrix (row aggregation)\n",
    "    for row, group_idx in row_group_map.items():\n",
    "        G[group_idx, row] = 1.0\n",
    "    \n",
    "    # Fill G matrix (column aggregation)\n",
    "    for col, group_idx in col_group_map.items():\n",
    "        Q[col, group_idx] = 1.0\n",
    "    \n",
    "    # Fill W matrix with constraint values\n",
    "    for constraint_set, value in zip(constraints, values):\n",
    "        for i, j in constraint_set:\n",
    "            row_idx = row_group_map[i]\n",
    "            col_idx = col_group_map[j]\n",
    "            W[row_idx, col_idx] = value\n",
    "    \n",
    "    return G, Q, W"
   ]
  },
  {
   "cell_type": "code",
   "execution_count": 245,
   "metadata": {},
   "outputs": [
    {
     "name": "stdout",
     "output_type": "stream",
     "text": [
      "\n",
      "G matrix (row aggregation):\n",
      "[[1. 1. 1. 0. 0. 0.]\n",
      " [0. 0. 0. 1. 1. 1.]]\n",
      "Q matrix (column aggregation):\n",
      "[[0.]\n",
      " [0.]\n",
      " [0.]\n",
      " [1.]\n",
      " [1.]\n",
      " [1.]]\n",
      "\n",
      "W matrix (constraint values):\n",
      "[[10.]\n",
      " [20.]]\n"
     ]
    }
   ],
   "source": [
    "constraints = [\n",
    "    {(0, 4), (1, 5), (2, 3)},  # First constraint set\n",
    "    {(3, 4), (4, 5), (5, 3)},  # Second constraint set\n",
    "]\n",
    "    \n",
    "# Corresponding values for constraints\n",
    "values = [10.0, 20.0]\n",
    "\n",
    "# Specify input matrix dimensions\n",
    "m, n = 6, 6  # Dimensions of input matrix X\n",
    "\n",
    "# Construct matrices\n",
    "G, Q, W = construct_constraint_matrices(constraints, values, m, n)\n",
    "\n",
    "print(\"\\nG matrix (row aggregation):\")\n",
    "print(G)\n",
    "print(\"Q matrix (column aggregation):\")\n",
    "print(Q)\n",
    "print(\"\\nW matrix (constraint values):\")\n",
    "print(W)\n",
    "    "
   ]
  },
  {
   "cell_type": "code",
   "execution_count": 246,
   "metadata": {},
   "outputs": [
    {
     "name": "stdout",
     "output_type": "stream",
     "text": [
      "Q matrix (row aggregation):\n",
      "[[0. 1.]\n",
      " [1. 0.]\n",
      " [1. 0.]\n",
      " [0. 1.]\n",
      " [0. 0.]\n",
      " [0. 0.]\n",
      " [0. 0.]]\n",
      "\n",
      "G matrix (column aggregation):\n",
      "[[1. 1. 0. 0. 0. 0.]\n",
      " [0. 0. 1. 1. 0. 0.]]\n",
      "\n",
      "W matrix (constraint values):\n",
      "[[10.  0.]\n",
      " [ 0. 20.]]\n"
     ]
    }
   ],
   "source": [
    "X1= np.array([[0,5,0,0,0,0,0],\n",
    "    [0,0,5,0,0,0,0],\n",
    "    [7,0,0,0,0,0,0],\n",
    "    [0,0,0,13,0,0,0],\n",
    "    [0,0,0,0,0,0,0],\n",
    "    [0,0,0,0,0,0,0]\n",
    "    ])\n",
    "m,n = 6,7\n",
    "\n",
    "constraints = [\n",
    "    {(0, 1), (1, 2)},  # First constraint set\n",
    "    {(2, 0), (3, 3)},  # Second constraint set\n",
    "]\n",
    "    \n",
    "# Corresponding values for constraints\n",
    "values = [10.0, 20.0]\n",
    "\n",
    "G, Q, W = construct_constraint_matrices(constraints, values, m, n)\n",
    "\n",
    "print(\"Q matrix (row aggregation):\")\n",
    "print(Q)\n",
    "print(\"\\nG matrix (column aggregation):\")\n",
    "print(G)\n",
    "print(\"\\nW matrix (constraint values):\")\n",
    "print(W)\n",
    "\n",
    "assert np.all(G @ X1 @ Q == W)"
   ]
  },
  {
   "cell_type": "code",
   "execution_count": 330,
   "metadata": {},
   "outputs": [],
   "source": [
    "import numpy as np\n",
    "import scipy.sparse as sp\n",
    "import warnings\n",
    "\n",
    "def invd_sparse(x):\n",
    "    \"\"\"\n",
    "    Constructs a diagonal sparse matrix with 1/x, replacing entries where x == 0 with 1.\n",
    "    \n",
    "    Parameters:\n",
    "        x (numpy array or scipy sparse matrix): Input 1D array.\n",
    "        \n",
    "    Returns:\n",
    "        scipy sparse matrix: A diagonal sparse matrix.\n",
    "    \"\"\"\n",
    "    with np.errstate(divide='ignore', invalid='ignore'):\n",
    "        invd_values = np.where(x != 0, 1.0 / x, 1.0)\n",
    "    return sp.diags(invd_values.flatten())\n",
    "\n",
    "def MRGRAS_UpdateMatrix(P, N, T, r, s):\n",
    "    \"\"\"\n",
    "    Updates the matrix using the GRAS balancing approach with sparse matrices.\n",
    "    \n",
    "    Parameters:\n",
    "        P (scipy sparse matrix): Positive part of the input matrix.\n",
    "        N (scipy sparse matrix): Negative part of the input matrix.\n",
    "        r (numpy array): Row adjustment factors.\n",
    "        s (numpy array): Column adjustment factors.\n",
    "        \n",
    "    Returns:\n",
    "        scipy sparse matrix: The updated balanced matrix.\n",
    "    \"\"\"\n",
    "    with np.errstate(divide='ignore', invalid='ignore'):\n",
    "        invd_T = np.where(T != 0, 1.0 / T, 1.0)\n",
    "    return sp.diags(r.flatten()) @ (P * T) @ sp.diags(s.flatten()) - invd_sparse(r) @ (N * invd_T) @ invd_sparse(s)\n",
    "\n",
    "def MRGRAS_Balancing(X, u, v, W, G, Q, EPSILON=1e-10, epsilon_constr = 1e-10 ,max_iter=20):\n",
    "    # Ensure inputs are consistent\n",
    "    assert np.allclose(u.sum(), v.sum()), \"Row and column sums must be equal.\"\n",
    "\n",
    "    # Define matrix size\n",
    "    m, n = X.shape\n",
    "    M, N = W.shape\n",
    "    # Split into positive and negative components (in sparse format)\n",
    "    P0 = np.maximum(X, 0)\n",
    "    N0 = np.maximum(-X, 0)\n",
    "    assert np.allclose(X, (P0 - N0)), \"Matrix decomposition into P and N is incorrect.\"\n",
    "\n",
    "    # Initialize vectors\n",
    "    r = np.ones((m, 1))\n",
    "    t = np.ones((M, N))\n",
    "\n",
    "    # expand t\n",
    "    T_mask = (Q @ t @ G).T\n",
    "\n",
    "    # print(T_mask)\n",
    "\n",
    "    zero_rows = np.all(T_mask == 0, axis=1)\n",
    "    zero_columns = np.all(T_mask == 0, axis=0)\n",
    "    # Replace elements in zero rows with 1\n",
    "    T_mask[zero_rows, :] = 1\n",
    "    # Replace elements in zero columns with 1\n",
    "    T_mask[:, zero_columns] = 1\n",
    "    pr = (T_mask * P0).T @ r        \n",
    "\n",
    "    with np.errstate(divide='ignore', invalid='ignore'):\n",
    "        invd_T = np.where(T_mask != 0, 1.0 / T_mask, 1.0)\n",
    "    nr = ( invd_T * N0).T @ invd_sparse(r) @ np.ones((m, 1))\n",
    "\n",
    "    # Initial value of s1\n",
    "    # Ensure pr and nr are compatible for element-wise multiplication\n",
    "    pr_dense = pr.toarray() if sp.issparse(pr) else pr\n",
    "    nr_dense = nr.toarray() if sp.issparse(nr) else nr\n",
    "    s1 = invd_sparse(2 * pr_dense) @ (v + np.sqrt(v ** 2 + 4 * pr_dense * nr_dense))\n",
    "\n",
    "    # Handle possible NaNs\n",
    "    s1 = np.nan_to_num(s1, nan=1e-10, posinf=1e-10, neginf=1e-10)\n",
    "\n",
    "    ss = -invd_sparse(v) @ nr\n",
    "    s1[pr_dense.flatten() == 0] = ss[pr_dense.flatten() == 0]\n",
    "\n",
    "    # Iteration loop\n",
    "    iter = 1\n",
    "    dif = float('inf')\n",
    "\n",
    "    while (dif > EPSILON) and (iter <= max_iter):\n",
    "        # Update r\n",
    "        ps = (P0 * T_mask) @ s1\n",
    "        ns = (N0 * invd_T) @ invd_sparse(s1) @ np.ones((n, 1))\n",
    "\n",
    "        ps_dense = ps.toarray() if sp.issparse(ps) else ps\n",
    "        ns_dense = ns.toarray() if sp.issparse(ns) else ns\n",
    "        r = invd_sparse(2 * ps_dense) @ (u + np.sqrt(u ** 2 + 4 * ps_dense * ns_dense))\n",
    "        \n",
    "        # Handle possible NaNs\n",
    "        r = np.nan_to_num(r, nan=1e-10, posinf=1e-10, neginf=1e-10)\n",
    "\n",
    "        rr = -invd_sparse(u) @ ns\n",
    "        r[ps_dense.flatten() == 0] = rr[ps_dense.flatten() == 0]\n",
    "\n",
    "        # update t\n",
    "        pt = G @ np.diag(r.flatten()) @ P0 @ np.diag(s1.flatten()) @ Q \n",
    "        nt = G @ invd_sparse(r) @ N0 @ invd_sparse(s1) @ Q \n",
    "        \n",
    "        with np.errstate(divide='ignore', invalid='ignore'):\n",
    "            pt_invd = np.where(pt != 0, 1.0 / pt, 1.0)\n",
    "        t = (pt_invd / 2.0)*(W + np.sqrt(W**2 + 4 * pt * nt))\n",
    "\n",
    "        # Handle possible NaNs\n",
    "        t = np.nan_to_num(t, nan=1e-10, posinf=1e-10, neginf=1e-10)\n",
    "        with np.errstate(divide='ignore', invalid='ignore'):\n",
    "            W_invd = np.where(W != 0, 1.0 / W, 1.0)\n",
    "        tr = - nt * W_invd\n",
    "\n",
    "        t[pt == 0] = tr[ pt == 0]\n",
    "\n",
    "\n",
    "        # expand t\n",
    "        T_mask = (Q @ t @ G).T\n",
    "        zero_rows = np.all(T_mask == 0, axis=1)\n",
    "        zero_columns = np.all(T_mask == 0, axis=0)\n",
    "        # Replace elements in zero rows with 1\n",
    "        T_mask[zero_rows, :] = 1\n",
    "        # Replace elements in zero columns with 1\n",
    "        T_mask[:, zero_columns] = 1\n",
    "\n",
    "        with np.errstate(divide='ignore', invalid='ignore'):\n",
    "            invd_T = np.where(T_mask != 0, 1.0 / T_mask, 1.0)\n",
    "        # Update s2\n",
    "        pr = (T_mask * P0).T @ r \n",
    "        nr = ( invd_T * N0).T @ invd_sparse(r) @ np.ones((m, 1)) # verificare se rimuovere questo np.ones\n",
    "        \n",
    "        pr_dense = pr.toarray() if sp.issparse(pr) else pr\n",
    "        nr_dense = nr.toarray() if sp.issparse(nr) else nr\n",
    "        s2 = invd_sparse(2 * pr_dense) @ (v + np.sqrt(v ** 2 + 4 * pr_dense * nr_dense))\n",
    "\n",
    "        # Handle possible NaNs\n",
    "        s2 = np.nan_to_num(s2, nan=1e-10, posinf=1e-10, neginf=1e-10)\n",
    "        \n",
    "        ss = -invd_sparse(v) @ nr\n",
    "        s2[pr_dense.flatten() == 0] = ss[pr_dense.flatten() == 0]\n",
    "\n",
    "        # Convergence check\n",
    "        dif = np.max(np.abs(s2 - s1))\n",
    "        s1 = s2  # Update s1 for next iteration\n",
    "        iter +=1 \n",
    "    \n",
    "\n",
    "    # Post iteration checks\n",
    "    if (iter == max_iter) and (dif > EPSILON ):\n",
    "        warnings.warn(\"GRAS procedure did not converge.\")\n",
    "        return None\n",
    "    else:\n",
    "        s = s2\n",
    "        ps = (P0 * T_mask) @ s\n",
    "        ns = (N0 * invd_T) @ invd_sparse(s) @ np.ones((n, 1))\n",
    "        \n",
    "        ps_dense = ps.toarray() if sp.issparse(ps) else ps\n",
    "        ns_dense = ns.toarray() if sp.issparse(ns) else ns\n",
    "        r = invd_sparse(2 * ps_dense) @ (u + np.sqrt(u ** 2 + 4 * ps_dense * ns_dense))\n",
    "\n",
    "        # Handle possible NaNs\n",
    "        r = np.nan_to_num(r, nan=1e-10, posinf=1e-10, neginf=1e-10)\n",
    "        \n",
    "        rr = -invd_sparse(u) @ ns\n",
    "        r[ps_dense.flatten() == 0] = rr[ps_dense.flatten() == 0]\n",
    "\n",
    "        X_MRGRAS = MRGRAS_UpdateMatrix(P0, N0, T_mask, r, s)\n",
    "        row_sums = np.array(X_MRGRAS.sum(axis=1)).flatten()\n",
    "        column_sums = np.array(X_MRGRAS.sum(axis=0)).flatten()\n",
    "        if not (np.allclose(row_sums, u.flatten(), atol=epsilon_constr) and np.allclose(column_sums, v.flatten(), atol=epsilon_constr) and np.allclose(G @ X_MRGRAS @ Q, W)):\n",
    "            warnings.warn(\"The final balanced matrix does not match the target row/column sums within the specified tolerance.\")\n",
    "\n",
    "        # Final updated matrix\n",
    "        return X_MRGRAS, iter, dif\n"
   ]
  },
  {
   "cell_type": "code",
   "execution_count": 331,
   "metadata": {},
   "outputs": [
    {
     "name": "stdout",
     "output_type": "stream",
     "text": [
      "Test Case 1: Small Basic Matrix\n",
      "Test Case 1 passed: Converged in 201 iterations with final difference 9.325873406851315e-15\n"
     ]
    }
   ],
   "source": [
    "\n",
    "# Test Case 1: Small Basic Matrix / single cell constraint\n",
    "print(\"Test Case 1: Small Basic Matrix\")\n",
    "X1 = np.array([[5, -3, 0,1], [2, 0, -2,1], [-1, 3, 4,1]])\n",
    "u1 = np.array([5, 3, 1]).reshape(-1, 1)\n",
    "v1 = np.array([3, 4, 1,1]).reshape(-1, 1)\n",
    "\n",
    "constraints = [\n",
    "    {(0, 0)}  # First constraint set\n",
    "    ]\n",
    "    \n",
    "# Corresponding values for constraints\n",
    "values = [6]\n",
    "\n",
    "# Specify input matrix dimensions\n",
    "m, n = X1.shape  # Dimensions of input matrix X\n",
    "\n",
    "# Construct matrices\n",
    "G, Q, W = construct_constraint_matrices(constraints, values, m, n)\n",
    "result1, iterations1, diff1 = MRGRAS_Balancing(X1, u1,v1, W, G, Q, EPSILON=1e-14, epsilon_constr=1e-14, max_iter=200)\n",
    "\n",
    "assert result1 is not None, \"Test Case 1 failed: Procedure did not converge.\"\n",
    "assert np.allclose(result1.sum(axis = 1).flatten(), u1.flatten(), atol=1e-10), \"Test Case 1 failed: Row sum target not reached\"\n",
    "assert np.allclose(result1.sum(axis = 0).flatten(), v1.flatten(), atol=1e-10), \"Test Case 1 failed: Columns sum target not reached\"\n",
    "assert np.allclose(G @ result1 @ Q, W, atol=1e-10), \"Test Case 1 failed: Constraint sum target not reached\"\n",
    "\n",
    "# Check if the sign of each element is preserved\n",
    "assert np.all((X1 > 0) == (result1 > 0)), \"Test Case 1 failed: Signs of positive cells are not preserved.\"\n",
    "assert np.all((X1 < 0) == (result1 < 0)), \"Test Case 1 failed: Signs of negative cells are not preserved.\"\n",
    "print(f\"Test Case 1 passed: Converged in {iterations1} iterations with final difference {diff1}\")"
   ]
  },
  {
   "cell_type": "code",
   "execution_count": 332,
   "metadata": {},
   "outputs": [
    {
     "data": {
      "text/plain": [
       "array([[ 6.        , -1.14177507,  0.        ,  0.14177507],\n",
       "       [ 2.83706041,  0.        , -0.60280467,  0.76574426],\n",
       "       [-5.83706041,  5.14177507,  1.60280467,  0.09248067]])"
      ]
     },
     "execution_count": 332,
     "metadata": {},
     "output_type": "execute_result"
    }
   ],
   "source": [
    "result1"
   ]
  },
  {
   "cell_type": "code",
   "execution_count": 338,
   "metadata": {},
   "outputs": [
    {
     "name": "stdout",
     "output_type": "stream",
     "text": [
      "\n",
      "Test Case 2: Diagonal Matrix\n",
      "Test Case 2 passed: Converged in 2 iterations with final difference 0.0\n"
     ]
    }
   ],
   "source": [
    "# Test Case 2: Diagonal Matrix\n",
    "print(\"\\nTest Case 2: Diagonal Matrix\")\n",
    "X2 = np.array([[5, 0, 0], [0, -4, 0], [0, 0, 2]])\n",
    "u2 = np.array([5, -4, 3]).reshape(-1, 1)\n",
    "v2 = np.array([5, -4, 3]).reshape(-1, 1)\n",
    "\n",
    "constraints = [\n",
    "    {(0, 0)},  # First constraint set\n",
    "    {(1, 1)}  # Second constraint set\n",
    "    ]\n",
    "    \n",
    "# Corresponding values for constraints\n",
    "values = [5.0,-4.0]\n",
    "\n",
    "# Specify input matrix dimensions\n",
    "m, n = X2.shape  # Dimensions of input matrix X\n",
    "\n",
    "G, Q, W = construct_constraint_matrices(constraints, values, m, n)\n",
    "result2, iterations2, diff2 = MRGRAS_Balancing(X2, u2, v2, W, G, Q, max_iter= 200)\n",
    "assert result2 is not None, \"Test Case 2 failed: Procedure did not converge.\"\n",
    "# Check if the sign of each element is preserved\n",
    "assert np.all((X2 > 0) == (result2 > 0)), \"Test Case 2 failed: Signs of positive cells are not preserved.\"\n",
    "assert np.all((X2 < 0) == (result2 < 0)), \"Test Case 2 failed: Signs of negative cells are not preserved.\"\n",
    "print(f\"Test Case 2 passed: Converged in {iterations2} iterations with final difference {diff2}\")"
   ]
  },
  {
   "cell_type": "code",
   "execution_count": 339,
   "metadata": {},
   "outputs": [
    {
     "data": {
      "text/plain": [
       "array([[ 5.,  0.,  0.],\n",
       "       [ 0., -4.,  0.],\n",
       "       [ 0.,  0.,  3.]])"
      ]
     },
     "execution_count": 339,
     "metadata": {},
     "output_type": "execute_result"
    }
   ],
   "source": [
    "result2"
   ]
  },
  {
   "cell_type": "code",
   "execution_count": null,
   "metadata": {},
   "outputs": [
    {
     "name": "stdout",
     "output_type": "stream",
     "text": [
      "\n",
      "Test Case 3: All Positive Matrix\n",
      "Test Case 3 passed: Converged in 7 iterations with final difference 1.6344703368531555e-11\n"
     ]
    }
   ],
   "source": [
    "# Test Case 3: All Positive Matrix\n",
    "print(\"\\nTest Case 3: All Positive Matrix\")\n",
    "X3 = np.array([[3, 2, 0], [4, 5, 0], [0, 0, 9]])\n",
    "u3 = np.array([9, 16, 11]).reshape(-1, 1)\n",
    "v3 = np.array([5, 20, 11]).reshape(-1, 1)\n",
    "\n",
    "constraints = [\n",
    "    {(0, 0),(0,1),(1,0),(1,1)},  # First constraint set\n",
    "    {(2,2)}\n",
    "    ]\n",
    "    \n",
    "# Corresponding values for constraints\n",
    "values = [25,11]\n",
    "G, Q, W = construct_constraint_matrices(constraints, values, m, n)\n",
    "\n",
    "\n",
    "\n",
    "result3, iterations3, diff3 = MRGRAS_Balancing(X3, u3, v3,W,G,Q)\n",
    "assert result3 is not None, \"Test Case 3 failed: Procedure did not converge.\"\n",
    "# Check if the sign of each element is preserved\n",
    "assert np.all((X3 > 0) == (result3 > 0)), \"Test Case 3 failed: Signs of positive cells are not preserved.\"\n",
    "print(f\"Test Case 3 passed: Converged in {iterations3} iterations with final difference {diff3}\")\n"
   ]
  },
  {
   "cell_type": "code",
   "execution_count": 342,
   "metadata": {},
   "outputs": [
    {
     "data": {
      "text/plain": [
       "array([[ 2.40045386,  6.59954614,  0.        ],\n",
       "       [ 2.59954614, 13.40045386,  0.        ],\n",
       "       [ 0.        ,  0.        , 11.        ]])"
      ]
     },
     "execution_count": 342,
     "metadata": {},
     "output_type": "execute_result"
    }
   ],
   "source": [
    "result3"
   ]
  },
  {
   "cell_type": "code",
   "execution_count": 367,
   "metadata": {},
   "outputs": [
    {
     "name": "stdout",
     "output_type": "stream",
     "text": [
      "\n",
      "Test Case 3: All Positive Matrix\n",
      "Test Case 3 passed: Converged in 99 iterations with final difference 9.391315503037845e-11\n"
     ]
    },
    {
     "name": "stderr",
     "output_type": "stream",
     "text": [
      "/var/folders/sj/w2mxmxh96gn0y5qrl52g4qxh0000gn/T/ipykernel_28425/2865726463.py:171: UserWarning: The final balanced matrix does not match the target row/column sums within the specified tolerance.\n",
      "  warnings.warn(\"The final balanced matrix does not match the target row/column sums within the specified tolerance.\")\n"
     ]
    }
   ],
   "source": [
    "# Test Case 3: All Positive Matrix\n",
    "print(\"\\nTest Case 3: All Positive Matrix\")\n",
    "X3 = np.array([[3, 2, 0], [4, 5,10], [1, 9,7]])\n",
    "u3 = np.array([9, 16, 12,]).reshape(-1, 1)\n",
    "v3 = np.array([5, 20, 12]).reshape(-1, 1)\n",
    "\n",
    "constraints = [\n",
    "    {(0, 0)},  # First constraint set\n",
    "    {(2,2)}\n",
    "    ]\n",
    "    \n",
    "# Corresponding values for constraints\n",
    "values = [4,0]\n",
    "m,n = X3.shape\n",
    "G, Q, W = construct_constraint_matrices(constraints, values, m, n)\n",
    "\n",
    "\n",
    "\n",
    "result3, iterations3, diff3 = MRGRAS_Balancing(X3, u3, v3,W,G,Q, max_iter=2000)\n",
    "assert result3 is not None, \"Test Case 3 failed: Procedure did not converge.\"\n",
    "# Check if the sign of each element is preserved\n",
    "assert np.all((X3 > 0) == (result3 > 0)), \"Test Case 3 failed: Signs of positive cells are not preserved.\"\n",
    "print(f\"Test Case 3 passed: Converged in {iterations3} iterations with final difference {diff3}\")\n"
   ]
  },
  {
   "cell_type": "code",
   "execution_count": 368,
   "metadata": {},
   "outputs": [
    {
     "data": {
      "text/plain": [
       "(array([[4.        , 5.        , 0.        ],\n",
       "        [0.85983898, 6.90080038, 8.23936065],\n",
       "        [0.14016103, 8.09919962, 3.76063935]]),\n",
       " 99)"
      ]
     },
     "execution_count": 368,
     "metadata": {},
     "output_type": "execute_result"
    }
   ],
   "source": [
    "result3, iterations3\n",
    "# TO DO: fix W definition to include not covered part by constraints"
   ]
  },
  {
   "cell_type": "code",
   "execution_count": null,
   "metadata": {},
   "outputs": [],
   "source": [
    "# Test Case 4: Large Sparse Matrix\n",
    "print(\"\\nTest Case 4: Large Sparse Matrix\")\n",
    "X4 = sp.random(100, 100, density=0.1, format='csr') - sp.random(100, 100, density=0.1, format='csr')\n",
    "u4 = np.random.rand(100, 1) * 10\n",
    "v4 = np.random.rand(100, 1) * 10\n",
    "u4 = u4 / u4.sum() * v4.sum()  # Normalize u4 to ensure u4.sum() == v4.sum()\n",
    "result4, iterations4, diff4 = MRGRAS_Balancing(X4.toarray(), u4, v4)\n",
    "assert result4 is not None, \"Test Case 4 failed: Procedure did not converge.\"\n",
    "# Check if the sign of each element is preserved\n",
    "assert np.all((X4.toarray() > 0) == (result4 > 0)), \"Test Case 4 failed: Signs of positive cells are not preserved.\"\n",
    "assert np.all((X4.toarray() < 0) == (result4 < 0)), \"Test Case 4 failed: Signs of negative cells are not preserved.\"\n",
    "print(f\"Test Case 4 passed: Converged in {iterations4} iterations with final difference {diff4}\")"
   ]
  }
 ],
 "metadata": {
  "kernelspec": {
   "display_name": "base",
   "language": "python",
   "name": "python3"
  },
  "language_info": {
   "codemirror_mode": {
    "name": "ipython",
    "version": 3
   },
   "file_extension": ".py",
   "mimetype": "text/x-python",
   "name": "python",
   "nbconvert_exporter": "python",
   "pygments_lexer": "ipython3",
   "version": "3.10.0"
  }
 },
 "nbformat": 4,
 "nbformat_minor": 2
}
