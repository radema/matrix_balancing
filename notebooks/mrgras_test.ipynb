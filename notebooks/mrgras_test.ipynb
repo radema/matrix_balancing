{
 "cells": [
  {
   "cell_type": "code",
   "execution_count": 1,
   "metadata": {},
   "outputs": [],
   "source": [
    "import scipy as sp\n",
    "import numpy as np"
   ]
  },
  {
   "cell_type": "markdown",
   "metadata": {},
   "source": [
    "---"
   ]
  },
  {
   "cell_type": "code",
   "execution_count": 2,
   "metadata": {},
   "outputs": [],
   "source": [
    "import numpy as np\n",
    "from typing import List, Set, Tuple\n",
    "\n",
    "def construct_constraint_matrices(\n",
    "    constraints: List[Set[Tuple[int, int]]],\n",
    "    values: List[float],\n",
    "    m: int,  # Number of input rows\n",
    "    n: int   # Number of input columns\n",
    ") -> Tuple[np.ndarray, np.ndarray, np.ndarray]:\n",
    "    \"\"\"\n",
    "    Construct Q, G, and W matrices for multiregion constraints\n",
    "    \n",
    "    Parameters:\n",
    "    -----------\n",
    "    constraints : List[Set[Tuple[int, int]]]\n",
    "        List of index pair sets for each constraint\n",
    "    values : List[float]\n",
    "        Corresponding values for each constraint set\n",
    "    m : int\n",
    "        Number of rows in the input matrix X\n",
    "    n : int\n",
    "        Number of columns in the input matrix X\n",
    "    \n",
    "    Returns:\n",
    "    --------\n",
    "    Tuple[np.ndarray, np.ndarray, np.ndarray]\n",
    "        Q (rows aggregation matrix, M x m), \n",
    "        G (columns aggregation matrix, n x N), \n",
    "        W (constraint values matrix, M x N)\n",
    "    \"\"\"\n",
    "    # Find unique constraint indices\n",
    "    first_components = [(set(idx[0] for idx in constraint_set)) for constraint_set in constraints]\n",
    "    second_components = [(set(idx[1] for idx in constraint_set)) for constraint_set in constraints]\n",
    "    \n",
    "    # Determine M and N by finding groups of first and second components\n",
    "    def find_groups(components):\n",
    "        groups = []\n",
    "        for comp_set in components:\n",
    "            matching_groups = [group for group in groups if not group.isdisjoint(comp_set)]\n",
    "            if matching_groups:\n",
    "                merged_group = set.union(*matching_groups, comp_set)\n",
    "                groups = [group for group in groups if group not in matching_groups]\n",
    "                groups.append(merged_group)\n",
    "            else:\n",
    "                groups.append(comp_set)\n",
    "        return groups\n",
    "\n",
    "    row_groups = find_groups(first_components)\n",
    "    col_groups = find_groups(second_components)\n",
    "\n",
    "    # Ensure G @ 1 = 1 and 1.T @ Q = 1.T\n",
    "    covered_rows = {i for group in row_groups for i in group}\n",
    "    covered_cols = {j for group in col_groups for j in group}\n",
    "    \n",
    "    if len(covered_rows) < m:\n",
    "        uncovered_rows = set(range(m)) - covered_rows\n",
    "        row_groups.append(uncovered_rows)\n",
    "\n",
    "    if len(covered_cols) < n:\n",
    "        uncovered_cols = set(range(n)) - covered_cols\n",
    "        col_groups.append(uncovered_cols)\n",
    "\n",
    "    # Dimensions\n",
    "    M = len(row_groups)\n",
    "    N = len(col_groups)\n",
    "\n",
    "    # Initialize Q, G, and W matrices\n",
    "    G = np.zeros((M, m), dtype=float)\n",
    "    Q = np.zeros((n, N), dtype=float)\n",
    "    W = np.full((M, N), np.nan, dtype=float)  # W defaults to NaN\n",
    "\n",
    "    # Create mapping for row and column groups\n",
    "    row_group_map = {}\n",
    "    for group_idx, group in enumerate(row_groups):\n",
    "        for row in group:\n",
    "            row_group_map[row] = group_idx\n",
    "\n",
    "    col_group_map = {}\n",
    "    for group_idx, group in enumerate(col_groups):\n",
    "        for col in group:\n",
    "            col_group_map[col] = group_idx\n",
    "\n",
    "    # Fill G matrix (row aggregation)\n",
    "    for row, group_idx in row_group_map.items():\n",
    "        G[group_idx, row] = 1.0\n",
    "\n",
    "    # Fill Q matrix (column aggregation)\n",
    "    for col, group_idx in col_group_map.items():\n",
    "        Q[col, group_idx] = 1.0\n",
    "\n",
    "    # Fill W matrix with constraint values\n",
    "    for constraint_set, value in zip(constraints, values):\n",
    "        for i, j in constraint_set:\n",
    "            row_idx = row_group_map[i]\n",
    "            col_idx = col_group_map[j]\n",
    "            W[row_idx, col_idx] = value\n",
    "\n",
    "    return G, Q, W\n"
   ]
  },
  {
   "cell_type": "code",
   "execution_count": 5,
   "metadata": {},
   "outputs": [
    {
     "name": "stdout",
     "output_type": "stream",
     "text": [
      "\n",
      "G matrix (row aggregation):\n",
      "[[1. 1. 1. 0. 0. 0. 0.]\n",
      " [0. 0. 0. 1. 1. 1. 0.]\n",
      " [0. 0. 0. 0. 0. 0. 1.]]\n",
      "Q matrix (column aggregation):\n",
      "[[0. 1.]\n",
      " [0. 1.]\n",
      " [0. 1.]\n",
      " [1. 0.]\n",
      " [1. 0.]\n",
      " [1. 0.]]\n",
      "\n",
      "W matrix (constraint values):\n",
      "[[10. nan]\n",
      " [20. nan]\n",
      " [nan nan]]\n"
     ]
    }
   ],
   "source": [
    "constraints = [\n",
    "    {(0, 4), (1, 5), (2, 3)},  # First constraint set\n",
    "    {(3, 4), (4, 5), (5, 3)},  # Second constraint set\n",
    "]\n",
    "    \n",
    "# Corresponding values for constraints\n",
    "values = [10.0, 20.0]\n",
    "\n",
    "# Specify input matrix dimensions\n",
    "m, n = 7, 6  # Dimensions of input matrix X\n",
    "\n",
    "# Construct matrices\n",
    "G, Q, W = construct_constraint_matrices(constraints, values, m, n)\n",
    "\n",
    "print(\"\\nG matrix (row aggregation):\")\n",
    "print(G)\n",
    "print(\"Q matrix (column aggregation):\")\n",
    "print(Q)\n",
    "print(\"\\nW matrix (constraint values):\")\n",
    "print(W)\n",
    "    "
   ]
  },
  {
   "cell_type": "code",
   "execution_count": 34,
   "metadata": {},
   "outputs": [
    {
     "name": "stdout",
     "output_type": "stream",
     "text": [
      "Q matrix (row aggregation):\n",
      "[[0. 1. 0.]\n",
      " [1. 0. 0.]\n",
      " [1. 0. 0.]\n",
      " [0. 1. 0.]\n",
      " [0. 0. 1.]\n",
      " [0. 0. 1.]\n",
      " [0. 0. 1.]]\n",
      "\n",
      "G matrix (column aggregation):\n",
      "[[1. 1. 0. 0. 0. 0.]\n",
      " [0. 0. 1. 1. 0. 0.]\n",
      " [0. 0. 0. 0. 1. 1.]]\n",
      "\n",
      "W matrix (constraint values):\n",
      "[[10. nan nan]\n",
      " [nan 20. nan]\n",
      " [nan nan nan]]\n"
     ]
    }
   ],
   "source": [
    "X1= np.array([[0,5,0,0,0,0,0],\n",
    "    [1,0,5,0,0,0,0],\n",
    "    [7,0,0,0,0,0,0],\n",
    "    [0,0,0,13,0,0,0],\n",
    "    [0,0.5,0,0,0,0,1],\n",
    "    [1,0,0,0,0,5,1]\n",
    "    ])\n",
    "m,n = 6,7\n",
    "\n",
    "constraints = [\n",
    "    {(0, 1), (1, 2)},  # First constraint set\n",
    "    {(2, 0), (3, 3)},  # Second constraint set\n",
    "]\n",
    "    \n",
    "# Corresponding values for constraints\n",
    "values = [10.0, 20.0]\n",
    "\n",
    "G, Q, W = construct_constraint_matrices(constraints, values, m, n)\n",
    "\n",
    "print(\"Q matrix (row aggregation):\")\n",
    "print(Q)\n",
    "print(\"\\nG matrix (column aggregation):\")\n",
    "print(G)\n",
    "print(\"\\nW matrix (constraint values):\")\n",
    "print(W)\n",
    "\n",
    "# assert np.all(G @ X1 @ Q == W)"
   ]
  },
  {
   "cell_type": "code",
   "execution_count": 39,
   "metadata": {},
   "outputs": [
    {
     "data": {
      "text/plain": [
       "array([[ True,  True,  True],\n",
       "       [ True,  True,  True],\n",
       "       [ True,  True,  True]])"
      ]
     },
     "execution_count": 39,
     "metadata": {},
     "output_type": "execute_result"
    }
   ],
   "source": [
    "((G @ X1 @ Q) * (1 - np.isnan(W)).astype(float)) == np.where(np.isnan(W), 0, W)"
   ]
  },
  {
   "cell_type": "code",
   "execution_count": 77,
   "metadata": {},
   "outputs": [],
   "source": [
    "import numpy as np\n",
    "import scipy.sparse as sp\n",
    "import warnings\n",
    "\n",
    "def invd_sparse(x):\n",
    "    \"\"\"\n",
    "    Constructs a diagonal sparse matrix with 1/x, replacing entries where x == 0 with 1.\n",
    "    \n",
    "    Parameters:\n",
    "        x (numpy array or scipy sparse matrix): Input 1D array.\n",
    "        \n",
    "    Returns:\n",
    "        scipy sparse matrix: A diagonal sparse matrix.\n",
    "    \"\"\"\n",
    "    with np.errstate(divide='ignore', invalid='ignore'):\n",
    "        invd_values = np.where(x != 0, 1.0 / x, 1.0)\n",
    "    return sp.diags(invd_values.flatten())\n",
    "\n",
    "def invM_sparse(x):\n",
    "    \"\"\"\n",
    "    Constructs a diagonal sparse matrix with 1/x, replacing entries where x == 0 with 1.\n",
    "    \n",
    "    Parameters:\n",
    "        x (numpy array or scipy sparse matrix): Input 1D array.\n",
    "        \n",
    "    Returns:\n",
    "        scipy sparse matrix: A diagonal sparse matrix.\n",
    "    \"\"\"\n",
    "    with np.errstate(divide='ignore', invalid='ignore'):\n",
    "        invM_values = np.where( x != 0, 1.0 / x, 1.0)\n",
    "    return invM_values\n",
    "\n",
    "def MRGRAS_UpdateMatrix(P, N, T, r, s):\n",
    "    \"\"\"\n",
    "    Updates the matrix using the GRAS balancing approach with sparse matrices.\n",
    "    \n",
    "    Parameters:\n",
    "        P (scipy sparse matrix): Positive part of the input matrix.\n",
    "        N (scipy sparse matrix): Negative part of the input matrix.\n",
    "        r (numpy array): Row adjustment factors.\n",
    "        s (numpy array): Column adjustment factors.\n",
    "        \n",
    "    Returns:\n",
    "        scipy sparse matrix: The updated balanced matrix.\n",
    "    \"\"\"\n",
    "    with np.errstate(divide='ignore', invalid='ignore'):\n",
    "        invd_T = np.where(T != 0, 1.0 / T, 1.0)\n",
    "    return sp.diags(r.flatten()) @ (P * T) @ sp.diags(s.flatten()) - invd_sparse(r) @ (N * invd_T) @ invd_sparse(s)\n",
    "\n",
    "def MRGRAS_Balancing(X, u, v, W, G, Q, EPSILON=1e-10, epsilon_constr = 1e-10 ,max_iter=20):\n",
    "    # Ensure inputs are consistent\n",
    "    assert np.allclose(u.sum(), v.sum()), \"Row and column sums must be equal.\"\n",
    "\n",
    "    # Define matrix size\n",
    "    m, n = X.shape\n",
    "    M, N = W.shape\n",
    "    # Split into positive and negative components (in sparse format)\n",
    "    P0 = np.maximum(X, 0)\n",
    "    N0 = np.maximum(-X, 0)\n",
    "    assert np.allclose(X, (P0 - N0)), \"Matrix decomposition into P and N is incorrect.\"\n",
    "\n",
    "    # Initialize vectors\n",
    "    r = np.ones((m, 1))\n",
    "    t = np.ones((M, N))\n",
    "\n",
    "    # expand t\n",
    "    T_mask = (Q @ t @ G).T\n",
    "\n",
    "    # print(T_mask)\n",
    "\n",
    "    pr = (T_mask * P0).T @ r        \n",
    "\n",
    "    with np.errstate(divide='ignore', invalid='ignore'):\n",
    "        invd_T = np.where(T_mask != 0, 1.0 / T_mask, 1.0)\n",
    "    nr = ( invd_T * N0).T @ invd_sparse(r) @ np.ones((m, 1))\n",
    "\n",
    "    # Initial value of s1\n",
    "    # Ensure pr and nr are compatible for element-wise multiplication\n",
    "    pr_dense = pr.toarray() if sp.issparse(pr) else pr\n",
    "    nr_dense = nr.toarray() if sp.issparse(nr) else nr\n",
    "    s1 = invd_sparse(2 * pr_dense) @ (v + np.sqrt(v ** 2 + 4 * pr_dense * nr_dense))\n",
    "\n",
    "    # Handle possible NaNs\n",
    "    s1 = np.nan_to_num(s1, nan=1e-10, posinf=1e-10, neginf=1e-10)\n",
    "\n",
    "    ss = -invd_sparse(v) @ nr\n",
    "    s1[pr_dense.flatten() == 0] = ss[pr_dense.flatten() == 0]\n",
    "\n",
    "    # Iteration loop\n",
    "    iter = 1\n",
    "    dif = float('inf')\n",
    "    t1 = t\n",
    "    r1 = r\n",
    "\n",
    "    while (dif > EPSILON) and (iter <= max_iter):\n",
    "        # Update r\n",
    "        ps = (P0 * T_mask) @ s1\n",
    "        ns = (N0 * invd_T) @ invd_sparse(s1) @ np.ones((n, 1))\n",
    "\n",
    "        ps_dense = ps.toarray() if sp.issparse(ps) else ps\n",
    "        ns_dense = ns.toarray() if sp.issparse(ns) else ns\n",
    "        r = invd_sparse(2 * ps_dense) @ (u + np.sqrt(u ** 2 + 4 * ps_dense * ns_dense))\n",
    "        \n",
    "        # Handle possible NaNs\n",
    "        r = np.nan_to_num(r, nan=1e-10, posinf=1e-10, neginf=1e-10)\n",
    "\n",
    "        rr = -invd_sparse(u) @ ns\n",
    "        r[ps_dense.flatten() == 0] = rr[ps_dense.flatten() == 0]\n",
    "\n",
    "        # update t\n",
    "        pt = G @ np.diag(r.flatten()) @ P0 @ np.diag(s1.flatten()) @ Q \n",
    "        nt = G @ invd_sparse(r) @ N0 @ invd_sparse(s1) @ Q \n",
    "        \n",
    "        with np.errstate(divide='ignore', invalid='ignore'):\n",
    "            pt_invd = np.where(pt != 0, 1.0 / pt, 1.0)\n",
    "        t = (pt_invd / 2.0)*(W + np.sqrt(W**2 + 4 * pt * nt))\n",
    "\n",
    "        with np.errstate(divide='ignore', invalid='ignore'):\n",
    "            W_invd = np.where(W != 0, 1.0 / W, 1.0)\n",
    "        tr = - nt * W_invd\n",
    "\n",
    "        t[pt == 0] = tr[ pt == 0]\n",
    "        # Handle possible NaNs\n",
    "        t = np.nan_to_num(t, nan=1, posinf=1e-10, neginf=1e-10)\n",
    "\n",
    "\n",
    "        # expand t\n",
    "        T_mask = (Q @ t @ G).T\n",
    "\n",
    "        with np.errstate(divide='ignore', invalid='ignore'):\n",
    "            invd_T = np.where(T_mask != 0, 1.0 / T_mask, 1.0)\n",
    "        # Update s2\n",
    "        pr = (T_mask * P0).T @ r \n",
    "        nr = ( invd_T * N0).T @ invd_sparse(r) @ np.ones((m, 1)) # verificare se rimuovere questo np.ones\n",
    "        \n",
    "        pr_dense = pr.toarray() if sp.issparse(pr) else pr\n",
    "        nr_dense = nr.toarray() if sp.issparse(nr) else nr\n",
    "        s2 = invd_sparse(2 * pr_dense) @ (v + np.sqrt(v ** 2 + 4 * pr_dense * nr_dense))\n",
    "\n",
    "        # Handle possible NaNs\n",
    "        s2 = np.nan_to_num(s2, nan=1e-10, posinf=1e-10, neginf=1e-10)\n",
    "        \n",
    "        ss = -invd_sparse(v) @ nr\n",
    "        s2[pr_dense.flatten() == 0] = ss[pr_dense.flatten() == 0]\n",
    "\n",
    "        # Convergence check\n",
    "        dif = np.max([np.max(np.abs(s2 - s1)), np.max(np.abs(r - r1)), np.max(np.abs(t - t1))])\n",
    "        s1 = s2  # Update s1 for next iteration\n",
    "        r1 = r\n",
    "        t1 = t\n",
    "        iter +=1 \n",
    "    \n",
    "\n",
    "    # Post iteration checks\n",
    "    if (iter == max_iter) and (dif > EPSILON ):\n",
    "        warnings.warn(\"GRAS procedure did not converge.\")\n",
    "        return None\n",
    "    else:\n",
    "        s = s2\n",
    "        ps = (P0 * T_mask) @ s\n",
    "        ns = (N0 * invd_T) @ invd_sparse(s) @ np.ones((n, 1))\n",
    "        \n",
    "        ps_dense = ps.toarray() if sp.issparse(ps) else ps\n",
    "        ns_dense = ns.toarray() if sp.issparse(ns) else ns\n",
    "        r = invd_sparse(2 * ps_dense) @ (u + np.sqrt(u ** 2 + 4 * ps_dense * ns_dense))\n",
    "\n",
    "        # Handle possible NaNs\n",
    "        r = np.nan_to_num(r, nan=1e-10, posinf=1e-10, neginf=1e-10)\n",
    "        \n",
    "        rr = -invd_sparse(u) @ ns\n",
    "        r[ps_dense.flatten() == 0] = rr[ps_dense.flatten() == 0]\n",
    "\n",
    "        X_MRGRAS = MRGRAS_UpdateMatrix(P0, N0, T_mask, r, s)\n",
    "        row_sums = np.array(X_MRGRAS.sum(axis=1)).flatten()\n",
    "        column_sums = np.array(X_MRGRAS.sum(axis=0)).flatten()\n",
    "        if not (np.allclose(row_sums, u.flatten(), atol=epsilon_constr) and np.allclose(column_sums, v.flatten(), atol=epsilon_constr) and np.allclose(G @ X_MRGRAS @ Q, W)):\n",
    "            warnings.warn(\"The final balanced matrix does not match the target row/column sums within the specified tolerance.\")\n",
    "\n",
    "        # Final updated matrix\n",
    "        return X_MRGRAS, iter, dif, r,s,t\n"
   ]
  },
  {
   "cell_type": "code",
   "execution_count": 78,
   "metadata": {},
   "outputs": [
    {
     "data": {
      "text/plain": [
       "np.int64(2)"
      ]
     },
     "execution_count": 78,
     "metadata": {},
     "output_type": "execute_result"
    }
   ],
   "source": [
    "np.max([0,1,2])"
   ]
  },
  {
   "cell_type": "code",
   "execution_count": 107,
   "metadata": {},
   "outputs": [
    {
     "name": "stdout",
     "output_type": "stream",
     "text": [
      "Test Case 1: Small Basic Matrix\n",
      "Test Case 1 passed: Converged in 201 iterations with final difference 1.9984014443252818e-14\n"
     ]
    },
    {
     "name": "stderr",
     "output_type": "stream",
     "text": [
      "C:\\Users\\Raul De Maio\\AppData\\Local\\Temp\\ipykernel_9800\\3001350975.py:177: UserWarning: The final balanced matrix does not match the target row/column sums within the specified tolerance.\n",
      "  warnings.warn(\"The final balanced matrix does not match the target row/column sums within the specified tolerance.\")\n"
     ]
    }
   ],
   "source": [
    "\n",
    "# Test Case 1: Small Basic Matrix / single cell constraint\n",
    "print(\"Test Case 1: Small Basic Matrix\")\n",
    "X1 = np.array([[5, -3, 0,1], [2, 1, -2,1], [-1, 3, 4,1]])\n",
    "u1 = np.array([5, 3, 1]).reshape(-1, 1)\n",
    "v1 = np.array([3, 4, 1,1]).reshape(-1, 1)\n",
    "\n",
    "constraints = [\n",
    "    {(0, 0)},  # First constraint set\n",
    "    {(1,1)}\n",
    "    ]\n",
    "    \n",
    "# Corresponding values for constraints\n",
    "values = [6,3]\n",
    "\n",
    "# Specify input matrix dimensions\n",
    "m, n = X1.shape  # Dimensions of input matrix X\n",
    "\n",
    "# Construct matrices\n",
    "G, Q, W = construct_constraint_matrices(constraints, values, m, n)\n",
    "result1, iterations1, diff1,r,s,t = MRGRAS_Balancing(X1, u1,v1, W, G, Q, EPSILON=1e-14, epsilon_constr=1e-14, max_iter=200)\n",
    "\n",
    "assert result1 is not None, \"Test Case 1 failed: Procedure did not converge.\"\n",
    "assert np.allclose(result1.sum(axis = 1).flatten(), u1.flatten(), atol=1e-10), \"Test Case 1 failed: Row sum target not reached\"\n",
    "assert np.allclose(result1.sum(axis = 0).flatten(), v1.flatten(), atol=1e-10), \"Test Case 1 failed: Columns sum target not reached\"\n",
    "assert np.allclose((G @ result1 @ Q) * (~np.isnan(W)).astype(int) , np.where(np.isnan(W), 0, W), atol = 1e-10), \"Test Case 1 failed: Constraint sum target not reached\"\n",
    "\n",
    "# Check if the sign of each element is preserved\n",
    "assert np.all((X1 >= 0) == (result1 >= 0)), \"Test Case 1 failed: Signs of positive cells are not preserved.\"\n",
    "assert np.all((X1 <= 0) == (result1 <= 0)), \"Test Case 1 failed: Signs of negative cells are not preserved.\"\n",
    "print(f\"Test Case 1 passed: Converged in {iterations1} iterations with final difference {diff1}\")"
   ]
  },
  {
   "cell_type": "code",
   "execution_count": 108,
   "metadata": {},
   "outputs": [
    {
     "name": "stdout",
     "output_type": "stream",
     "text": [
      "\n",
      "Test Case 2: Diagonal Matrix\n",
      "Test Case 2 passed: Converged in 2 iterations with final difference 0.0\n"
     ]
    },
    {
     "name": "stderr",
     "output_type": "stream",
     "text": [
      "C:\\Users\\Raul De Maio\\AppData\\Local\\Temp\\ipykernel_9800\\3001350975.py:177: UserWarning: The final balanced matrix does not match the target row/column sums within the specified tolerance.\n",
      "  warnings.warn(\"The final balanced matrix does not match the target row/column sums within the specified tolerance.\")\n"
     ]
    }
   ],
   "source": [
    "# Test Case 2: Diagonal Matrix\n",
    "print(\"\\nTest Case 2: Diagonal Matrix\")\n",
    "X2 = np.array([[5, 0, 0], [0, -4, 0], [0, 0, 2]])\n",
    "u2 = np.array([5, -4, 3]).reshape(-1, 1)\n",
    "v2 = np.array([5, -4, 3]).reshape(-1, 1)\n",
    "\n",
    "constraints = [\n",
    "    {(0, 0)},  # First constraint set\n",
    "    {(1, 1)}  # Second constraint set\n",
    "    ]\n",
    "    \n",
    "# Corresponding values for constraints\n",
    "values = [5.0,-4.0]\n",
    "\n",
    "# Specify input matrix dimensions\n",
    "m, n = X2.shape  # Dimensions of input matrix X\n",
    "\n",
    "G, Q, W = construct_constraint_matrices(constraints, values, m, n)\n",
    "result2, iterations2, diff2,r,s,t = MRGRAS_Balancing(X2, u2, v2, W, G, Q, max_iter= 200)\n",
    "assert result2 is not None, \"Test Case 2 failed: Procedure did not converge.\"\n",
    "# Check if the sign of each element is preserved\n",
    "assert np.all((X2 >= 0) == (result2 >= 0)), \"Test Case 2 failed: Signs of positive cells are not preserved.\"\n",
    "assert np.all((X2 <= 0) == (result2 <= 0)), \"Test Case 2 failed: Signs of negative cells are not preserved.\"\n",
    "print(f\"Test Case 2 passed: Converged in {iterations2} iterations with final difference {diff2}\")"
   ]
  },
  {
   "cell_type": "code",
   "execution_count": 86,
   "metadata": {},
   "outputs": [
    {
     "name": "stdout",
     "output_type": "stream",
     "text": [
      "\n",
      "Test Case 3: All Positive Matrix\n",
      "Test Case 3 passed: Converged in 8 iterations with final difference 2.176925306685007e-12\n"
     ]
    },
    {
     "name": "stderr",
     "output_type": "stream",
     "text": [
      "C:\\Users\\Raul De Maio\\AppData\\Local\\Temp\\ipykernel_9800\\3001350975.py:177: UserWarning: The final balanced matrix does not match the target row/column sums within the specified tolerance.\n",
      "  warnings.warn(\"The final balanced matrix does not match the target row/column sums within the specified tolerance.\")\n"
     ]
    }
   ],
   "source": [
    "# Test Case 3: All Positive Matrix\n",
    "print(\"\\nTest Case 3: All Positive Matrix\")\n",
    "X3 = np.array([[3, 2, 0], [4, 5, 0], [0, 0, 9]])\n",
    "u3 = np.array([9, 16, 11]).reshape(-1, 1)\n",
    "v3 = np.array([5, 20, 11]).reshape(-1, 1)\n",
    "\n",
    "constraints = [\n",
    "    {(0, 0),(0,1),(1,0),(1,1)},  # First constraint set\n",
    "    {(2,2)}\n",
    "    ]\n",
    "    \n",
    "# Corresponding values for constraints\n",
    "values = [25,11]\n",
    "G, Q, W = construct_constraint_matrices(constraints, values, m, n)\n",
    "\n",
    "\n",
    "\n",
    "result3, iterations3, diff3,r,s,t = MRGRAS_Balancing(X3, u3, v3,W,G,Q)\n",
    "assert result3 is not None, \"Test Case 3 failed: Procedure did not converge.\"\n",
    "# Check if the sign of each element is preserved\n",
    "assert np.all((X3 >= 0) == (result3 >= 0)), \"Test Case 3 failed: Signs of positive cells are not preserved.\"\n",
    "print(f\"Test Case 3 passed: Converged in {iterations3} iterations with final difference {diff3}\")\n"
   ]
  },
  {
   "cell_type": "code",
   "execution_count": 83,
   "metadata": {},
   "outputs": [
    {
     "name": "stdout",
     "output_type": "stream",
     "text": [
      "\n",
      "Test Case 3: All Positive Matrix\n",
      "Test Case 3 passed: Converged in 115 iterations with final difference 9.82729453369302e-11\n"
     ]
    },
    {
     "name": "stderr",
     "output_type": "stream",
     "text": [
      "C:\\Users\\Raul De Maio\\AppData\\Local\\Temp\\ipykernel_9800\\3001350975.py:177: UserWarning: The final balanced matrix does not match the target row/column sums within the specified tolerance.\n",
      "  warnings.warn(\"The final balanced matrix does not match the target row/column sums within the specified tolerance.\")\n"
     ]
    }
   ],
   "source": [
    "# Test Case 3: All Positive Matrix\n",
    "print(\"\\nTest Case 3: All Positive Matrix\")\n",
    "X3 = np.array([[3, 2, 0], [4, 5,10], [1, 9,7]])\n",
    "u3 = np.array([9, 16, 12,]).reshape(-1, 1)\n",
    "v3 = np.array([5, 20, 12]).reshape(-1, 1)\n",
    "\n",
    "constraints = [\n",
    "    {(0, 0)},  # First constraint set\n",
    "    {(2,2)}\n",
    "    ]\n",
    "    \n",
    "# Corresponding values for constraints\n",
    "values = [4,0]\n",
    "m,n = X3.shape\n",
    "G, Q, W = construct_constraint_matrices(constraints, values, m, n)\n",
    "\n",
    "\n",
    "\n",
    "result3, iterations3, diff3,r,s,t = MRGRAS_Balancing(X3, u3, v3,W,G,Q, max_iter=2000)\n",
    "assert result3 is not None, \"Test Case 3 failed: Procedure did not converge.\"\n",
    "# Check if the sign of each element is preserved\n",
    "assert np.all((X3 >= 0) == (result3 >= 0)), \"Test Case 3 failed: Signs of positive cells are not preserved.\"\n",
    "print(f\"Test Case 3 passed: Converged in {iterations3} iterations with final difference {diff3}\")\n"
   ]
  },
  {
   "cell_type": "code",
   "execution_count": 117,
   "metadata": {},
   "outputs": [
    {
     "name": "stderr",
     "output_type": "stream",
     "text": [
      "C:\\Users\\Raul De Maio\\AppData\\Local\\Temp\\ipykernel_9800\\3001350975.py:177: UserWarning: The final balanced matrix does not match the target row/column sums within the specified tolerance.\n",
      "  warnings.warn(\"The final balanced matrix does not match the target row/column sums within the specified tolerance.\")\n"
     ]
    }
   ],
   "source": [
    "N = 1000\n",
    "\n",
    "X_test = np.random.rand(N,N)\n",
    "\n",
    "u = np.ones(N).reshape(-1,1)*4\n",
    "v = np.ones(N).reshape(-1,1)*4\n",
    "\n",
    "constraints = [\n",
    "    {(0, 0),(0,1),(0,2),(1,0),(1,1),(1,2),(2,0),(2,1),(2,2)}\n",
    "    ]\n",
    "values = [9]\n",
    "\n",
    "G, Q, W = construct_constraint_matrices(constraints, values, N, N)\n",
    "\n",
    "result, iterations, diff,r,s,t = MRGRAS_Balancing(X_test, u, v, W, G, Q, max_iter=2000)"
   ]
  },
  {
   "cell_type": "code",
   "execution_count": 118,
   "metadata": {},
   "outputs": [
    {
     "data": {
      "text/plain": [
       "array([[1.50672790e-01, 1.07406608e+00, 1.13672787e+00, ...,\n",
       "        2.06479654e-03, 8.79494912e-04, 1.08764951e-03],\n",
       "       [9.45829676e-01, 1.54658317e+00, 6.28372979e-01, ...,\n",
       "        1.35432673e-03, 8.00244689e-04, 1.61421861e-03],\n",
       "       [1.73858424e+00, 7.54372250e-01, 1.02479095e+00, ...,\n",
       "        2.41316481e-04, 3.91188623e-04, 4.42475038e-04],\n",
       "       ...,\n",
       "       [4.91709602e-04, 6.53186338e-04, 1.44991233e-03, ...,\n",
       "        5.84778843e-03, 1.41619333e-03, 3.18643821e-03],\n",
       "       [5.80953742e-04, 1.13885235e-03, 1.69996458e-03, ...,\n",
       "        6.81883707e-03, 7.09379340e-03, 7.77236855e-03],\n",
       "       [1.00225846e-03, 1.13945033e-04, 1.84431065e-03, ...,\n",
       "        7.65857096e-03, 6.37784059e-03, 2.55114925e-04]])"
      ]
     },
     "execution_count": 118,
     "metadata": {},
     "output_type": "execute_result"
    }
   ],
   "source": [
    "result"
   ]
  },
  {
   "cell_type": "code",
   "execution_count": 119,
   "metadata": {},
   "outputs": [],
   "source": [
    "import pandas as pd\n",
    "\n",
    "pd.DataFrame(result).to_clipboard()"
   ]
  },
  {
   "cell_type": "code",
   "execution_count": null,
   "metadata": {},
   "outputs": [],
   "source": []
  }
 ],
 "metadata": {
  "kernelspec": {
   "display_name": "base",
   "language": "python",
   "name": "python3"
  },
  "language_info": {
   "codemirror_mode": {
    "name": "ipython",
    "version": 3
   },
   "file_extension": ".py",
   "mimetype": "text/x-python",
   "name": "python",
   "nbconvert_exporter": "python",
   "pygments_lexer": "ipython3",
   "version": "3.12.3"
  }
 },
 "nbformat": 4,
 "nbformat_minor": 2
}
